{
  "nbformat": 4,
  "nbformat_minor": 0,
  "metadata": {
    "colab": {
      "provenance": [],
      "gpuType": "T4",
      "mount_file_id": "1zOj0QqpkRe6syD5M4LKfkKE2e7CdI3jF",
      "authorship_tag": "ABX9TyMFmFYIhFvRcK+Xly2XTMiX",
      "include_colab_link": true
    },
    "kernelspec": {
      "name": "python3",
      "display_name": "Python 3"
    },
    "language_info": {
      "name": "python"
    },
    "accelerator": "GPU"
  },
  "cells": [
    {
      "cell_type": "markdown",
      "metadata": {
        "id": "view-in-github",
        "colab_type": "text"
      },
      "source": [
        "<a href=\"https://colab.research.google.com/github/AkshayNagamalla/codeOptimisationGenAI/blob/main/backend_code.ipynb\" target=\"_parent\"><img src=\"https://colab.research.google.com/assets/colab-badge.svg\" alt=\"Open In Colab\"/></a>"
      ]
    },
    {
      "cell_type": "code",
      "source": [
        " %%capture\n",
        "!pip install unsloth \"xformers==0.0.28.post2\"\n",
        "# Also get the latest nightly Unsloth!\n",
        "!pip uninstall unsloth -y && pip install --upgrade --no-cache-dir \"unsloth[colab-new] @ git+https://github.com/unslothai/unsloth.git\""
      ],
      "metadata": {
        "id": "s5zhhZhYIoul"
      },
      "execution_count": null,
      "outputs": []
    },
    {
      "cell_type": "code",
      "source": [
        "!pip install xformers"
      ],
      "metadata": {
        "id": "l1XY2gCxIvl-",
        "collapsed": true
      },
      "execution_count": null,
      "outputs": []
    },
    {
      "cell_type": "code",
      "source": [
        "from unsloth import FastLanguageModel\n",
        "from transformers import TextStreamer\n",
        "from datasets import load_dataset\n",
        "from unsloth.chat_templates import get_chat_template, standardize_sharegpt\n",
        "from trl import SFTTrainer\n",
        "from transformers import TrainingArguments, DataCollatorForSeq2Seq\n",
        "from unsloth import is_bfloat16_supported\n",
        "from datetime import datetime\n",
        "import torch\n",
        "\n",
        "# Model Initialization\n",
        "max_seq_length = 128000\n",
        "dtype = None\n",
        "load_in_4bit = True\n",
        "\n",
        "model, tokenizer = FastLanguageModel.from_pretrained(\n",
        "    model_name=\"unsloth/Llama-3.2-3B-Instruct-bnb-4bit\",\n",
        "    max_seq_length=max_seq_length,\n",
        "    dtype=dtype,\n",
        "    load_in_4bit=load_in_4bit,\n",
        ")\n",
        "\n",
        "model = FastLanguageModel.get_peft_model(\n",
        "    model,\n",
        "    r=16,\n",
        "    target_modules=[\"q_proj\", \"k_proj\", \"v_proj\", \"o_proj\", \"gate_proj\", \"up_proj\", \"down_proj\"],\n",
        "    lora_alpha=16,\n",
        "    lora_dropout=0,\n",
        "    bias=\"none\",\n",
        "    use_gradient_checkpointing=\"unsloth\",\n",
        "    random_state=3407,\n",
        "    use_rslora=False,\n",
        "    loftq_config=None,\n",
        ")\n",
        "\n",
        "tokenizer = get_chat_template(tokenizer, chat_template=\"llama-3.1\")\n"
      ],
      "metadata": {
        "id": "kFzq2KVmJR0W",
        "collapsed": true
      },
      "execution_count": null,
      "outputs": []
    },
    {
      "cell_type": "code",
      "source": [
        "# Dataset Preparation\n",
        "#dataset = load_dataset(\"mlabonne/FineTome-100k\", split=\"train\")\n",
        "dataset = load_dataset(\"json\", data_files=\"/content/drive/MyDrive/Colab Notebooks/optimized_dataset.json\", split=\"train\")\n",
        "dataset = standardize_sharegpt(dataset)\n",
        "\n",
        "def formatting_prompts_func(examples):\n",
        "    convos = examples[\"conversations\"]\n",
        "    texts = [\n",
        "        tokenizer.apply_chat_template(convo, tokenize=False, add_generation_prompt=False)\n",
        "        for convo in convos\n",
        "    ]\n",
        "    return {\"text\": texts}\n",
        "\n",
        "dataset = dataset.map(formatting_prompts_func, batched=True)\n"
      ],
      "metadata": {
        "id": "W-VNYdskJn74",
        "collapsed": true
      },
      "execution_count": null,
      "outputs": []
    },
    {
      "cell_type": "code",
      "source": [
        "# Fine-tuning Preparation\n",
        "trainer = SFTTrainer(\n",
        "    model=model,\n",
        "    tokenizer=tokenizer,\n",
        "    train_dataset=dataset,\n",
        "    dataset_text_field=\"text\",\n",
        "    max_seq_length=max_seq_length,\n",
        "    data_collator=DataCollatorForSeq2Seq(tokenizer=tokenizer),\n",
        "    dataset_num_proc=2,\n",
        "    packing=False,\n",
        "    args=TrainingArguments(\n",
        "        per_device_train_batch_size=2,\n",
        "        gradient_accumulation_steps=4,\n",
        "        warmup_steps=5,\n",
        "        max_steps=60,\n",
        "        learning_rate=2e-4,\n",
        "        fp16=not is_bfloat16_supported(),\n",
        "        bf16=is_bfloat16_supported(),\n",
        "        logging_steps=1,\n",
        "        optim=\"adamw_8bit\",\n",
        "        weight_decay=0.01,\n",
        "        lr_scheduler_type=\"linear\",\n",
        "        seed=3407,\n",
        "        output_dir=\"outputs\",\n",
        "        report_to=\"none\",\n",
        "    ),\n",
        ")\n",
        "\n",
        "from unsloth.chat_templates import train_on_responses_only\n",
        "trainer = train_on_responses_only(\n",
        "    trainer,\n",
        "    instruction_part=\"<|start_header_id|>user<|end_header_id|>\\n\\n\",\n",
        "    response_part=\"<|start_header_id|>assistant<|end_header_id|>\\n\\n\",\n",
        ")\n",
        "\n",
        "trainer.train()\n",
        "FastLanguageModel.for_inference(model)\n"
      ],
      "metadata": {
        "id": "J6oVJS1aShFH",
        "collapsed": true
      },
      "execution_count": null,
      "outputs": []
    },
    {
      "cell_type": "code",
      "source": [
        "text_streamer = TextStreamer(tokenizer, skip_prompt=True)\n",
        "\n",
        "# Context to store user queries\n",
        "user_context = []\n",
        "\n",
        "def process_query(query):\n",
        "    \"\"\"\n",
        "    Process the query, append it to the user context, and generate a response.\n",
        "    \"\"\"\n",
        "    current_date = datetime.now().strftime(\"%Y-%m-%d\")\n",
        "    user_context.append(f\"{current_date}\\nUser: {query}\")\n",
        "    full_context = \"\\n\".join(user_context)\n",
        "    messages = [{\"role\": \"user\", \"content\": full_context}]\n",
        "    inputs = tokenizer.apply_chat_template(\n",
        "        messages,\n",
        "        tokenize=True,\n",
        "        add_generation_prompt=True,\n",
        "        return_tensors=\"pt\",\n",
        "    ).to(\"cuda\")\n",
        "    output_tokens = model.generate(\n",
        "        input_ids=inputs,\n",
        "        streamer=text_streamer,\n",
        "        max_new_tokens=128000,\n",
        "        temperature=0.8,\n",
        "        min_p=0.1,\n",
        "    )\n",
        "    return tokenizer.decode(output_tokens[0], skip_special_tokens=True)"
      ],
      "metadata": {
        "id": "gud-88xuSj0b"
      },
      "execution_count": null,
      "outputs": []
    },
    {
      "cell_type": "code",
      "source": [
        "def convert_code(code_snippet, target_language):\n",
        "    \"\"\"\n",
        "    Convert code to the specified target language.\n",
        "    \"\"\"\n",
        "    target_language = target_language.lower()\n",
        "    if target_language == \"python\":\n",
        "        return f\"# Converted to Python:\\n{code_snippet}\"\n",
        "    elif target_language == \"java\":\n",
        "        return f\"// Converted to Java:\\npublic class Main {{\\n    public static void main(String[] args) {{\\n        {code_snippet}\\n    }}\\n}}\"\n",
        "    elif target_language == \"c\":\n",
        "        return f\"/* Converted to C */\\n#include <stdio.h>\\nint main() {{\\n    {code_snippet}\\n    return 0;\\n}}\"\n",
        "    elif target_language == \"c++\":\n",
        "        return f\"// Converted to C++\\n#include <iostream>\\nusing namespace std;\\nint main() {{\\n    {code_snippet}\\n    return 0;\\n}}\"\n",
        "    else:\n",
        "        return f\"// Conversion to {target_language} not supported.\"\n"
      ],
      "metadata": {
        "id": "DilgkfyRSl-4"
      },
      "execution_count": null,
      "outputs": []
    },
    {
      "cell_type": "code",
      "source": [
        "def parse_conversion_request(user_input):\n",
        "    \"\"\"\n",
        "    Parse conversion request from user input.\n",
        "    \"\"\"\n",
        "    parts = user_input.split(\":\", 1)[1].strip().split(\"|\")\n",
        "    code_snippet = parts[0].strip()\n",
        "    target_language = parts[1].strip() if len(parts) > 1 else \"Python\"\n",
        "    return code_snippet, target_language\n"
      ],
      "metadata": {
        "id": "j7Clqw33SncQ"
      },
      "execution_count": null,
      "outputs": []
    },
    {
      "cell_type": "code",
      "source": [
        "def main():\n",
        "    print(\"Welcome to the Llama Model Interactive Query Processor!\")\n",
        "    while True:\n",
        "        print(\"\\nEnter your query (or type 'exit' to quit):\")\n",
        "        user_input = input(\"> \").strip()\n",
        "\n",
        "        if user_input.lower() == \"exit\":\n",
        "            print(\"Exiting the program. Goodbye!\")\n",
        "            break\n",
        "\n",
        "        if user_input.startswith(\"convert:\"):\n",
        "            code_snippet, target_language = parse_conversion_request(user_input)\n",
        "            converted_code = convert_code(code_snippet, target_language)\n",
        "            print(f\"\\nConverted Code:\\n{converted_code}\")\n",
        "        else:\n",
        "            response = process_query(user_input)\n",
        "            #print(f\"\\nResponse:\\n{response}\")\n",
        "\n",
        "if __name__ == \"__main__\":\n",
        "    main()\n"
      ],
      "metadata": {
        "id": "ILZ32efgSpLq",
        "collapsed": true
      },
      "execution_count": null,
      "outputs": []
    }
  ]
}
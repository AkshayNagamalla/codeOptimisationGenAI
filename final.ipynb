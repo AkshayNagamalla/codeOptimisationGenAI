{
  "nbformat": 4,
  "nbformat_minor": 0,
  "metadata": {
    "colab": {
      "provenance": [],
      "gpuType": "T4",
      "mount_file_id": "10VpmY3txbbMiWgv7Ev0n8HX5H7D8GKOx",
      "authorship_tag": "ABX9TyN0uB5vQ7rvKTaVOKP9xUWY",
      "include_colab_link": true
    },
    "kernelspec": {
      "name": "python3",
      "display_name": "Python 3"
    },
    "language_info": {
      "name": "python"
    },
    "accelerator": "GPU"
  },
  "cells": [
    {
      "cell_type": "markdown",
      "metadata": {
        "id": "view-in-github",
        "colab_type": "text"
      },
      "source": [
        "<a href=\"https://colab.research.google.com/github/AkshayNagamalla/codeOptimisationGenAI/blob/main/final.ipynb\" target=\"_parent\"><img src=\"https://colab.research.google.com/assets/colab-badge.svg\" alt=\"Open In Colab\"/></a>"
      ]
    },
    {
      "cell_type": "code",
      "source": [
        "!pip install bitsandbytes\n",
        "!pip install transformers\n",
        "!pip install torch"
      ],
      "metadata": {
        "id": "e-ANofUq2YB5"
      },
      "execution_count": null,
      "outputs": []
    },
    {
      "cell_type": "code",
      "source": [
        "from transformers import AutoModelForCausalLM, AutoTokenizer, TextStreamer\n",
        "import torch\n",
        "from datetime import datetime\n",
        "\n",
        "model_path = \"hemanth2102/PS-G210\"\n",
        "tokenizer = AutoTokenizer.from_pretrained(model_path)\n",
        "model = AutoModelForCausalLM.from_pretrained(model_path, torch_dtype=torch.float16).to(\"cuda\")\n",
        "\n",
        "# Context to store only user queries\n",
        "user_context = []\n",
        "\n",
        "def convert_code(code_snippet, target_language):\n",
        "    \"\"\"\n",
        "    Convert code to the specified target language.\n",
        "    \"\"\"\n",
        "    target_language = target_language.lower()\n",
        "    if target_language == \"python\":\n",
        "        return f\"# Converted to Python:\\n{code_snippet}\"\n",
        "    elif target_language == \"java\":\n",
        "        return f\"// Converted to Java:\\npublic class Main {{\\n    public static void main(String[] args) {{\\n        {code_snippet}\\n    }}\\n}}\"\n",
        "    elif target_language == \"c\":\n",
        "        return f\"/* Converted to C */\\n#include <stdio.h>\\nint main() {{\\n    {code_snippet}\\n    return 0;\\n}}\"\n",
        "    elif target_language == \"c++\":\n",
        "        return f\"// Converted to C++\\n#include <iostream>\\nusing namespace std;\\nint main() {{\\n    {code_snippet}\\n    return 0;\\n}}\"\n",
        "    else:\n",
        "        return f\"// Conversion to {target_language} not supported.\"\n",
        "\n",
        "def process_query(query):\n",
        "    \"\"\"\n",
        "    Process the query by appending it to the user context.\n",
        "    Generates a new result based on the accumulated context.\n",
        "    \"\"\"\n",
        "    # Check if the query is a conversion request\n",
        "    if query.startswith(\"convert:\"):\n",
        "        parts = query.split(\":\", 1)[1].strip().split(\"|\")\n",
        "        code_snippet = parts[0].strip()\n",
        "        target_language = parts[1].strip() if len(parts) > 1 else \"Python\"\n",
        "        return convert_code(code_snippet, target_language)\n",
        "\n",
        "    # Get the current date\n",
        "    current_date = datetime.now().strftime(\"%Y-%m-%d\")\n",
        "\n",
        "    # Append the new query and the current date to the user context\n",
        "    user_context.append(f\"{current_date}\\nUser: {query}\")\n",
        "    full_context = \"\\n\".join(user_context)\n",
        "\n",
        "    # Prepare inputs for the model\n",
        "    messages = [\n",
        "        {\"role\": \"user\", \"content\": full_context},\n",
        "    ]\n",
        "\n",
        "    inputs = tokenizer.apply_chat_template(\n",
        "        messages,\n",
        "        tokenize=True,\n",
        "        add_generation_prompt=True,\n",
        "        return_tensors=\"pt\",\n",
        "    ).to(\"cuda\")\n",
        "\n",
        "    # Generate output\n",
        "    output_tokens = model.generate(\n",
        "        input_ids=inputs,\n",
        "        max_new_tokens=128000,  # Adjust token length as needed\n",
        "        use_cache=True,\n",
        "        temperature=0.8,\n",
        "        min_p=0.1,\n",
        "    )\n",
        "\n",
        "    # Decode the output tokens\n",
        "    raw_output = tokenizer.decode(output_tokens[0], skip_special_tokens=True)\n",
        "\n",
        "    # Filter out unwanted phrases\n",
        "    unwanted_phrases = [\n",
        "        \"Cutting Knowledge Date:\",  # Add any phrases to exclude\n",
        "        \"Today Date:\"\n",
        "    ]\n",
        "    for phrase in unwanted_phrases:\n",
        "        raw_output = raw_output.replace(phrase, \"\").strip()\n",
        "\n",
        "    # Append only the user's query to the context to avoid repetition\n",
        "    return raw_output\n",
        "\n",
        "\n",
        "\n",
        "def main():\n",
        "    print(\"Welcome to the Llama Model Interactive Query Processor!\")\n",
        "    while True:\n",
        "        print(\"\\nEnter your query (or type 'exit' to quit):\")\n",
        "        query = input(\"> \").strip()\n",
        "\n",
        "        if query.lower() == 'exit':\n",
        "            print(\"Exiting the program. Goodbye!\")\n",
        "            break\n",
        "\n",
        "        # Process the query with accumulated context\n",
        "        new_output = process_query(query)\n",
        "\n",
        "        # Display the output\n",
        "        print(f\"\\nOutput:\\n{new_output}\")\n",
        "\n",
        "if __name__ == \"__main__\":\n",
        "    main()\n"
      ],
      "metadata": {
        "id": "_Br6ahY0P6pL"
      },
      "execution_count": null,
      "outputs": []
    }
  ]
}